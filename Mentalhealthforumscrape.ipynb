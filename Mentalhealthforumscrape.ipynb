{
 "cells": [
  {
   "cell_type": "code",
   "execution_count": 39,
   "metadata": {
    "scrolled": true
   },
   "outputs": [
    {
     "name": "stderr",
     "output_type": "stream",
     "text": [
      "[WDM] - \n",
      "\n",
      "[WDM] - ====== WebDriver manager ======\n",
      "[WDM] - Current google-chrome version is 94.0.4606\n",
      "[WDM] - Get LATEST driver version for 94.0.4606\n",
      "[WDM] - Driver [C:\\Users\\Sohom\\.wdm\\drivers\\chromedriver\\win32\\94.0.4606.61\\chromedriver.exe] found in cache\n",
      "C:\\Users\\Sohom\\Anaconda3\\lib\\site-packages\\ipykernel_launcher.py:3: DeprecationWarning: executable_path has been deprecated, please pass in a Service object\n",
      "  This is separate from the ipykernel package so we can avoid doing imports until\n"
     ]
    }
   ],
   "source": [
    "# Import Libraries\n",
    "import requests\n",
    "import numpy as np\n",
    "import pandas as pd\n",
    "from bs4 import BeautifulSoup\n",
    "import matplotlib.pyplot as plt\n",
    "from selenium import webdriver\n",
    "from tqdm.notebook import tqdm\n",
    "%matplotlib inline\n",
    "from webdriver_manager.chrome import ChromeDriverManager\n",
    "driver = webdriver.Chrome(ChromeDriverManager().install())"
   ]
  },
  {
   "cell_type": "code",
   "execution_count": 90,
   "metadata": {},
   "outputs": [],
   "source": [
    "#cleans thet text in the title of the post\n",
    "def clean_title(text):\n",
    "    mod_text=text.replace('/forum/threads/', '')\n",
    "    mod_text=mod_text.replace('/latest', '')\n",
    "    mod_text = mod_text[:-7]\n",
    "    mod_text=mod_text.replace('-', ' ')\n",
    "    return mod_text"
   ]
  },
  {
   "cell_type": "code",
   "execution_count": 177,
   "metadata": {},
   "outputs": [],
   "source": [
    "df = pd.DataFrame(columns=list([\"title\",\"time\",\"date\"]))"
   ]
  },
  {
   "cell_type": "code",
   "execution_count": 182,
   "metadata": {},
   "outputs": [
    {
     "data": {
      "application/vnd.jupyter.widget-view+json": {
       "model_id": "8d7ac3c6efff4e7287879fd5b8e7294a",
       "version_major": 2,
       "version_minor": 0
      },
      "text/plain": [
       "HBox(children=(FloatProgress(value=0.0, max=299.0), HTML(value='')))"
      ]
     },
     "metadata": {},
     "output_type": "display_data"
    },
    {
     "name": "stdout",
     "output_type": "stream",
     "text": [
      "\n"
     ]
    }
   ],
   "source": [
    "base_url=\"https://www.mentalhealthforum.net/\" \n",
    "# url from which data is extracted. we retrieve the threads in the depression forum.\n",
    "\n",
    "pagenum=1\n",
    "for b in tqdm(range(1,300)):\n",
    "    depression_base_url = base_url+'forum/forums/depression-forum.366/page-'+str(pagenum)\n",
    "    dr = webdriver.Chrome()\n",
    "    dr.get(depression_base_url)\n",
    "    bs = BeautifulSoup(dr.page_source,\"lxml\")\n",
    "    #created a beautiful soup object for each page\n",
    "    \n",
    "    for widget in bs.find_all('div', {'class': 'structItem-cell structItem-cell--latest'}):\n",
    "        for title,datetime in zip(widget.find_all('a', href=True),widget.find_all('time')):\n",
    "            text=title['href']\n",
    "            cleantitle=clean_title(str(text))\n",
    "            time=datetime['data-time-string']\n",
    "            date=datetime['data-date-string']\n",
    "            df.loc[len(df.index)] = [cleantitle, time, date] \n",
    "            pagenum=pagenum+1"
   ]
  },
  {
   "cell_type": "code",
   "execution_count": 184,
   "metadata": {},
   "outputs": [],
   "source": [
    "df.to_csv('mentalhealthdataset.csv')"
   ]
  }
 ],
 "metadata": {
  "kernelspec": {
   "display_name": "Python 3",
   "language": "python",
   "name": "python3"
  },
  "language_info": {
   "codemirror_mode": {
    "name": "ipython",
    "version": 3
   },
   "file_extension": ".py",
   "mimetype": "text/x-python",
   "name": "python",
   "nbconvert_exporter": "python",
   "pygments_lexer": "ipython3",
   "version": "3.7.7"
  }
 },
 "nbformat": 4,
 "nbformat_minor": 4
}
