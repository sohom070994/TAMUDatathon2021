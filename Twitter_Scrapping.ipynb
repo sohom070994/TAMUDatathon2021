{
  "nbformat": 4,
  "nbformat_minor": 0,
  "metadata": {
    "kernelspec": {
      "display_name": "Python 3",
      "language": "python",
      "name": "python3"
    },
    "language_info": {
      "codemirror_mode": {
        "name": "ipython",
        "version": 3
      },
      "file_extension": ".py",
      "mimetype": "text/x-python",
      "name": "python",
      "nbconvert_exporter": "python",
      "pygments_lexer": "ipython3",
      "version": "3.6.1"
    },
    "colab": {
      "name": "Twitter Scrapping.ipynb",
      "provenance": [],
      "include_colab_link": true
    }
  },
  "cells": [
    {
      "cell_type": "markdown",
      "metadata": {
        "id": "view-in-github",
        "colab_type": "text"
      },
      "source": [
        "<a href=\"https://colab.research.google.com/github/sohom070994/TAMUDatathon2021/blob/main/Twitter_Scrapping.ipynb\" target=\"_parent\"><img src=\"https://colab.research.google.com/assets/colab-badge.svg\" alt=\"Open In Colab\"/></a>"
      ]
    },
    {
      "cell_type": "markdown",
      "metadata": {
        "id": "UzWiVly60I_5"
      },
      "source": [
        "## Tweet Collection"
      ]
    },
    {
      "cell_type": "code",
      "metadata": {
        "collapsed": true,
        "id": "yGXLBiZ60I_6"
      },
      "source": [
        "#import relevant libraries\n",
        "import tweepy \n",
        "#Use Sohom's API KEYS\n",
        "consumer_key = '4jHaK26s9IIOAUwj8mQagR6HJ'\n",
        "consumer_secret = 'oefyOhhrKCXrlv1rsxyBQoKYF2Ab4kT6HyCmuHjXliPTrTfU5F'\n",
        "access_token='89169380-bQDh4UXvRtLDlCyn8KBlCoof6zztRLQvallIPpzNT'\n",
        "access_token_secret='f6yx9wJ6CgozH1BDM0c2JsPVq8HLap2opmjh2J68WjAYy'   \n",
        "#Authorizations\n",
        "auth = tweepy.OAuthHandler(consumer_key, consumer_secret)\n",
        "auth.set_access_token(access_token, access_token_secret)\n",
        "api = tweepy.API(auth)\n",
        "pub_twts = api.search('suicide')"
      ],
      "execution_count": 1,
      "outputs": []
    },
    {
      "cell_type": "code",
      "metadata": {
        "collapsed": true,
        "id": "wv04Mae20I_8"
      },
      "source": [
        "pub_twts1 = api.search('depression')"
      ],
      "execution_count": null,
      "outputs": []
    },
    {
      "cell_type": "code",
      "metadata": {
        "colab": {
          "base_uri": "https://localhost:8080/"
        },
        "id": "ZHXRNBgb0I_8",
        "outputId": "ff7379b9-34e4-4d48-dae5-7846a5c87e56"
      },
      "source": [
        "pub_twts2 = api.search('I want to die')\n",
        "for twt in pub_twts2:\n",
        "        print( twt.id ,end=\"\")\n",
        "        print(\" \" +twt.text)"
      ],
      "execution_count": null,
      "outputs": [
        {
          "output_type": "stream",
          "name": "stdout",
          "text": [
            "1449503220024299524 i want to die\n",
            "1449503136012402689 Well, I messed up actually stopping the timer but it looks like just before I hit it I got a 4:24:34 for metroid dr… https://t.co/D3aBKBsriB\n",
            "1449503068903464962 @vangoghartist Oh good l feel l belong here\n",
            "I want to stay on this shipat sea...\n",
            "Until l die, l know that l \n",
            "Is no place l would rather be\n",
            "1449503054101946371 RT @AllPeoplesArms: John Brown is a genuine martyr. John Brown gave up his life, knowing that death was a likely outcome for his deeds, but…\n",
            "1449502998540046336 “But child… you misunderstand the meaning of that word. The meaning of ‘wanting to die’… is ‘I don’t want to live l… https://t.co/jxL75FDVyg\n",
            "1449502951333146625 @PR0M123 i want to die\n",
            "1449502803555143683 RT @acklesthetics: jensen says he didn't want dean to die lying on the floor and that he fought to change that part in script: \"he's gonna…\n",
            "1449502770889961473 someone in school literally said “valentina you don’t look like yourself” like damn right i don’t i want to actually die\n",
            "1449502678174912513 RT @krkmz_mine: Ayşe Özdoğan said that I don't want to die, I want to be treated, but the Turkish government did not allow this and arreste…\n",
            "1449502651654283270 i want to make a gc, reply if you want to be in it and DONT LET IT DIE\n",
            "1449502599170777090 i want to jump into a pit of lava and die\n",
            "1449502552202964994 RT @Tembo124: One of the reason his my bias my one and only bias♥the only Man on earth I would literally want to die for because he's too k…\n",
            "1449502357184712706 i’m making myself do different things because i don’t want han seo to die , but i do want to see the chachenzo kiss… https://t.co/kuJ9L0zREZ\n",
            "1449502216499433478 RT @acklesthetics: jensen says he didn't want dean to die lying on the floor and that he fought to change that part in script: \"he's gonna…\n",
            "1449502213684928516 RT @wherejady: when i die i want there to be a lot to look back at—whether it’s the book i’mma write about my life or your favorite sex tap…\n"
          ]
        }
      ]
    },
    {
      "cell_type": "code",
      "metadata": {
        "colab": {
          "base_uri": "https://localhost:8080/"
        },
        "id": "0Gic1Yke0I_9",
        "outputId": "91f1c21f-5727-4df7-f5c2-df32e62effe1"
      },
      "source": [
        "public_tweets2 = api.search('kill me')"
      ],
      "execution_count": null,
      "outputs": [
        {
          "output_type": "stream",
          "name": "stdout",
          "text": [
            "1449503236935897088 “Cobblepot was so convinced I was finally going to kill him that he pissed himself the second he saw me.”\n",
            "#TheBatman https://t.co/9VTdfF1cjc\n",
            "1449503236226961408 October 16th, 2021.\n",
            "\n",
            "\"Get back! Stay back! Who are you!?\"\n",
            "\n",
            "\"Nova, it's me. Just come here. Look I'll handcuff mysel… https://t.co/aupTfTrNfT\n",
            "1449503210805235716 RT @shantiangel1: 🤣😂🤣🤣🤣🤣🤣🤣 this girl will not kill me with laughter. #WeLoveYouAngel. JB dollars of lyf ❤️❤️❤️❤️❤️. https://t.co/myh4ycN3PT\n",
            "1449503205092638724 RT @Papinla_: Comrade abeg help me put that GOAT meat,yes,that one wey Leicester kill😂 https://t.co/BdtqL4zb3p\n",
            "1449503186314833922 @Reachouu ton perso on dirait il jouis à chaque kill ça me termine\n",
            "1449503172402233348 like i need a nigga who gon kill for me but that sniffing panties shit gotta go\n",
            "1449503168870629383 @AshleyDCan I make sure to tell my kids almost daily that growing up is overated. Can't let the school system kill… https://t.co/eecBPBSv4b\n",
            "1449503136335470592 Barry, Anita, Aunt Sha, Theresa, McCabe, Keller &amp; Chinmaye have to prove to world that I was only meant to be hooke… https://t.co/dNIhDMsk2g\n",
            "1449503125342244869 3 cant even kill me at once #PS4share\n",
            "\n",
            "https://t.co/4dckC93rVE https://t.co/dwoykNDBcx\n",
            "1449503114709635072 “Me Grimlock was going to kill you but you way more fun to squeak!” https://t.co/FO98tvOqFi\n",
            "1449503099169738753 RT @UM_radio_Mic: THESE KILL SHOTS ARE KILLING ME!!!! TACKLE!!!!!!\n",
            "1449503078953144321 Someone pls come and kill me\n",
            "1449503078915448839 RT @Papinla_: Comrade abeg help me put that GOAT meat,yes,that one wey Leicester kill😂 https://t.co/BdtqL4zb3p\n",
            "1449503072997281792 @UrbanAchievr @soledadobrien Why the GQP thinks its good to kill it’s voters is beyond me.\n",
            "1449503061890592770 Nngh! Well. Before you kill me. Would you mind…if I had a cigarette?\n"
          ]
        }
      ]
    },
    {
      "cell_type": "code",
      "metadata": {
        "scrolled": true,
        "colab": {
          "base_uri": "https://localhost:8080/"
        },
        "id": "3EwuC4CS0I_9",
        "outputId": "8a76b75f-14f0-4114-ce6f-151d67da20d2"
      },
      "source": [
        "public_tweets3 = api.search('You would be better off without me')"
      ],
      "execution_count": null,
      "outputs": [
        {
          "output_type": "stream",
          "name": "stdout",
          "text": [
            "1449255679487713284 YOU SEASON 3 SPOILERS!!!\n",
            "\n",
            "ok so tell me how joe is smart enough to know that his son would be better off with anoth… https://t.co/WPY93Lehp9\n",
            "1449068714045882368 you’d be better off without me but would be broken if i weren’t here, pick one. you’re the ones being selfish.\n",
            "1449013575385710592 @TweetOfKyle @RampCapitalLLC So you’re telling me my kids would be better off (remember the bar is “enacted and mad… https://t.co/40kdfiWL2l\n",
            "1448715015171854337 Words from a suicide attempter\n",
            "Have you ever heard someone say two or more of the following?\n",
            "Life isn’t worth livin… https://t.co/APMfx1VdHl\n",
            "1448673249668259840 @TBKAREN_ You would be better off without me.\n",
            "1448631089522642954 RT @BigBowlOfPasta1: me the good person i am today, because i promise you all it did for me was cause continual pain, cause significant hea…\n",
            "1448595984276017157 They cautiously look up, holding his hands as theirs trembled. \n",
            "\n",
            "\"Sometimes I wonder if you guys would be better of… https://t.co/D2PxJYe307\n",
            "1448586031326969858 The fact that Poe DEFINITELY knows Ben is killing me cause he’s right he’s missing out. What I don’t know is does h… https://t.co/MhnvY5JKVg\n",
            "1448446702302728192 @packersloren Excuse me?? That’s not how it is. The world isn’t gonna be better off without you. For one, the whole… https://t.co/yCmh1GCqUa\n",
            "1448291917008097283 RT @aeongest: I apologize for putting pickles on your sandwich when you asked for no pickles. Do you think this world would be better off w…\n",
            "1448291856446590978 I apologize for putting pickles on your sandwich when you asked for no pickles. Do you think this world would be better off without me\n",
            "1448260900419522567 You told me the world would be better off without me to my face. https://t.co/WdpfAtWZZ9\n",
            "1448215651567296520 Maybe everyone at work is right..I can’t even look at my son without crying..why did he have to get stuck with me?… https://t.co/SessaAuoJk\n",
            "1448118531334287362 me the good person i am today, because i promise you all it did for me was cause continual pain, cause significant… https://t.co/LsBfiM2vyr\n",
            "1447986929727721476 gave him an ultimatum. Either you’re part of your kids life or you move tf out. He then decided to be part of my li… https://t.co/RDrnUUM6vs\n"
          ]
        }
      ]
    },
    {
      "cell_type": "code",
      "metadata": {
        "colab": {
          "base_uri": "https://localhost:8080/"
        },
        "id": "yckOqk-b0I_-",
        "outputId": "b9fb53e4-d47c-4383-99a0-f19af5e8dcf0"
      },
      "source": [
        "public_tweets4 = api.search('I wish I were dead.’')"
      ],
      "execution_count": null,
      "outputs": [
        {
          "output_type": "stream",
          "name": "stdout",
          "text": [
            "1449500639109734406 I wish I were dead\n",
            "1449486235047653376 @Redhead_sharky If that were true then where is everyone plus this bastard wronged me so he'd boost is popularity a… https://t.co/bmKzFKXIBp\n",
            "1449480259074760712 RT @StockmanNate: i wish my parents were alive so i could wish they were dead https://t.co/h2fOZubNLj\n",
            "1449479497854586881 RT @StockmanNate: i wish my parents were alive so i could wish they were dead https://t.co/h2fOZubNLj\n",
            "1449479316203573249 RT @StockmanNate: i wish my parents were alive so i could wish they were dead https://t.co/h2fOZubNLj\n",
            "1449477841683369988 i really wish my mom still had the cases for good news and we were dead. i wanna stack up my whole collection :(\n",
            "1449475441841131522 @iamb3yza wish i were not dead\n",
            "1449473699455721473 @tnols82 @3fast4furious @michaelpatron0 It’s the internet, I have low expectations, but would have been nice to see… https://t.co/FuggVIeX4R\n",
            "1449472455962095616 i truly wish that i were dead\n",
            "1449472348994908163 but how could i hate her, she's such an angel\n",
            "but then again, kinda wish she were dead\n",
            "1449472032370925568 Dead ass, Jack in the Box is better than a lot of other fast food places. I just wish there were more.\n",
            "1449463308990533635 i wish i were dead\n",
            "1449462785562144770 Don't wish you were dead, I wish you'd never been born at all\n",
            "1449460192765046787 You think you're so original \n",
            "(Why can't we just get along?) \n",
            "I can't wait for your funeral \n",
            "(Why can't we just get… https://t.co/coWetjhpre\n",
            "1449455936817430536 I wish you were dead, babe, I wish you were dead!\n"
          ]
        }
      ]
    },
    {
      "cell_type": "code",
      "metadata": {
        "colab": {
          "base_uri": "https://localhost:8080/"
        },
        "id": "0VfJBkEw0I__",
        "outputId": "a4f69b43-1ebb-4d76-ba72-9595f3c81497"
      },
      "source": [
        "public_tweets4 = api.search('i am sorry')"
      ],
      "execution_count": null,
      "outputs": [
        {
          "output_type": "stream",
          "name": "stdout",
          "text": [
            "1449503334080008192 ruikasa oomfs im sorry i really am but i am so fucking pressed this got above so many vbs covers and songs. this go… https://t.co/9syIOOucQ7\n",
            "1449503306049536005 @vibraniumsoIdat ⠀\n",
            "⠀natalia’s moves had always been so unpredictable. was she going to shoot him .. or was it merel… https://t.co/jZhhzdRteC\n",
            "1449503299238047746 @jewishshoelace thank u for ur service (and i am sorry about the back pain)\n",
            "1449503283802828800 @JudithAKeys2 I am so sorry for your loss.\n",
            "1449503274919469058 @krishnakolibabe @VinaigretteGirl @ukhomeoffice @BorisJohnson @parthaskar Oh GAWD! I am so sorry Soumitri. I do hop… https://t.co/UFc9Gyjisq\n",
            "1449503257974411266 i am going to be blackout drunk in like 2 hours, i'm sorry in advance\n",
            "1449503253994131458 @Kate_Retired @PinkRantz @mama_c2 @FeistyPK2 @_NoDavid_ @cantcatchmehaha @dawnistired5 @davidmweissman @Harry_Padre… https://t.co/7L0HgbrOcF\n",
            "1449503228228341760 @BethanyDevenish @SandroDemaio Sorry to hear that and hope she feels better soon. I have had 2 friends who have end… https://t.co/eTDUQg7DU8\n",
            "1449503227410583559 @tiffany08040804 @Brewers I am so sorry - go Cyrillo\n",
            "1449503224076066817 i am sorry for my whole behaviour lately idk what's wrong idk what's happening I'm just so annoying all the time just shut up\n",
            "1449503218837377034 how sorry I am that I'm not the hostage they were hoping they could get https://t.co/38DcEgnOg1\n",
            "1449503208360062977 RT @NanaBeingNana: \"You left me with no one but a parentless Jin Ling. Can't I hate you? Am I not supposed to hate you?! Then why the f*ck…\n",
            "1449503200499826691 @wiintertaegi i acknowledge i am responsible and i am very sorry (but also i would do it again in a heartbeat) &lt;33\n",
            "1449503187283501059 RT @nvtty_: i am voting allay, sorry glare truthers\n",
            "1449503185052192772 @CosmicBeing89 Hello, thank you for reaching out. I am so sorry to hear you did not enjoy your beverage, I understa… https://t.co/9uteGLoBwr\n"
          ]
        }
      ]
    },
    {
      "cell_type": "code",
      "metadata": {
        "colab": {
          "base_uri": "https://localhost:8080/"
        },
        "id": "lmAYw7xM0I__",
        "outputId": "cdd938b5-4c23-4d5c-89b2-4b3b84bba5e8"
      },
      "source": [
        "public_tweets4 = api.search('live your life')"
      ],
      "execution_count": null,
      "outputs": [
        {
          "output_type": "stream",
          "name": "stdout",
          "text": [
            "1449503343404007424 @joshuadun can i live your life\n",
            "1449503313737703424 Take life one day at a time and live with no regrets and write your own story, you’re the main character :)\n",
            "1449503282834153479 RT @JMarie_America: ‼️🎊Oklahoma Attorney General tells private employers to disregard Joe Biden’s vaccine mandate.\n",
            "\n",
            "THANK YOU @Okla_OAG‼️\n",
            "G…\n",
            "1449503274827194372 Live your life— without regret— and you want regret how you lived your life! Dr. K 🤔 https://t.co/BSpgkTbYGz\n",
            "1449503265717112834 RT @ShaneAParrish: “Think of yourself as dead. You have lived your life. Now take what’s left and live it properly.” \n",
            "\n",
            "— Marcus Aurelius\n",
            "1449503251422982144 RT @_ManLikeAJ: some of you see things on the internet and think you suppose to live like that, bot life\n",
            "\n",
            "Imagine rebelling against your pa…\n",
            "1449503226194284546 @Maryamartist5 Move on. Live your best life.\n",
            "1449503207781244935 @uninemclite @Kaianyte @Drjellystone @shanedawson Lmfao agree to disagree, you want to hate someone for tasteless j… https://t.co/WhLZIjxxh3\n",
            "1449503192320929795 RT @kdramatreats: It's mental health month and know that your simple deeds or gestures can give a person a will to live and save his/her li…\n",
            "1449503171315789827 @PrimeStarTradi1 I am a Muslim in China. All Muslims in China are rich, free, happy and equal to live in China. Wel… https://t.co/ZwaMsVKUOt\n",
            "1449503139376291847 @Kimbirdy You're asking Twitter about how to behave? Do what you want. Who cares what other people want you to live… https://t.co/g5Efe5daRu\n",
            "1449503105498828800 RT @andi_1117: @jannarden This is the definition of white privilege. Imagine being so woke that you have to spew garbage just so your woke…\n",
            "1449502963010084865 RT @UslLifestyle: Watch the brand new episode of USL Lifestyle on Wednesday, October 20th as @ayasha7 share with you her morning cardio exe…\n",
            "1449502943577841672 RT @Yy1Seher: @MySunSehYam Halil İbrahim Ceyhan live and enjoy your life as much as you can\n",
            "\n",
            "HalilİbrahimCeyhan  #HalilİbrahimCeyhan\n"
          ]
        }
      ]
    },
    {
      "cell_type": "code",
      "metadata": {
        "colab": {
          "base_uri": "https://localhost:8080/"
        },
        "id": "G8GhxQXB0JAA",
        "outputId": "1c1d1fcd-5254-4c37-b1f1-a56702199473"
      },
      "source": [
        "public_tweets4 = api.search('kill me now')"
      ],
      "execution_count": null,
      "outputs": [
        {
          "output_type": "stream",
          "name": "stdout",
          "text": [
            "1449502909872451593 @Kaidenfn_ @bowtheg 'oh you wanna kys ? *pushes you against the wall* prove it. prove it to me. Kill yourself . you… https://t.co/oOzPvKckvc\n",
            "1449502624508690433 RT @SteveM0365: Extract from meeting in UAE:\n",
            "\n",
            "Me: \"As an asthmatic, I'm a bit worried about returning to the UK as Covid could kill me.\"\n",
            "\n",
            "V…\n",
            "1449502395373924356 @STRWBERRYHALO I wish I never came out (although my family thinks I’m a cis lesbian so I’m not fully out) because n… https://t.co/ULsEtcKGGl\n",
            "1449502355939016704 @RedStateUncle @out_o_the_woods ‘That which does not kill me makes me stronger’ is bad Nietzsche, a sentimental vie… https://t.co/RSnb9YgLd1\n",
            "1449502336653594631 HOLDING KILL ME NOW\n",
            "1449502080079597569 just kill me now this is sick https://t.co/eN9W2Y9AsQ\n",
            "1449501133781848065 @444DEV If you’re struggling with statistics let me just get ready to kill myself now\n",
            "1449500957843202048 @KarlyRican_ The same people who are racists here tried to kill us there, and successfully killed and disappeared t… https://t.co/xgwLJnLiXk\n",
            "1449500673503019016 @TotoSummers @Lupis_Darkmoon ALSO RLY OBSESSED W/ UR STYLE HERE the soft shading is so gorgeous and i love!! these… https://t.co/4UPTyx0M6y\n",
            "1449500591332470789 @CabooseEK I’m so happy that John Stewert was Rocksteady’s first choice instead of Hal. I feel like he’s been disco… https://t.co/F49tJK7piB\n",
            "1449500513096003585 I’m taking him to therapy right now. He just tried to kill him self again. He’s shouting they don’t care about me, they never did.\n",
            "1449500482053947392 i used thsi cleaner to try and kill a spider and not only did it just not work. some of it got on my finger and now… https://t.co/K5BZBmVME2\n",
            "1449499994499784710 Ok I can't watch YOU right now. Joe is pissing me off \n",
            "\n",
            "He just keeps going on and on about how Love is a murderer… https://t.co/pvbRZMxnxF\n",
            "1449499672704344068 @CFBNerds JFC.  Kill me now\n",
            "1449498660878835715 kill me now https://t.co/0t1pCdH4ak\n"
          ]
        }
      ]
    },
    {
      "cell_type": "code",
      "metadata": {
        "colab": {
          "base_uri": "https://localhost:8080/"
        },
        "id": "Wim4Q6oZ0JAA",
        "outputId": "be9f2a76-6299-4e10-d21e-ccb952cd4a45"
      },
      "source": [
        "public_tweets5 = api.search('very depressed')"
      ],
      "execution_count": null,
      "outputs": [
        {
          "output_type": "stream",
          "name": "stdout",
          "text": [
            "1449503251099963430 RT @solerenergy12: Gary Danielson sounds very depressed  watching UGA dominate. #UGAvsUK\n",
            "1449499614051278848 very disappointing that i’m spending my teenage years depressed and rotting away like this when i should be thinkin… https://t.co/ISS0wi471S\n",
            "1449498735155761156 Peace is very important because being happy is a good feeling and best medicine to your heart. Peace comes with fre… https://t.co/HAjZtr3DkT\n",
            "1449498381882114056 RT @Dhruvi2602: @valand_rakesh The very important thing here is that controlling does not mean suppressing emotions and then feeling depres…\n",
            "1449497410359734284 RT @mattxiv: turnin 23 tonight. here’s a pic from when i was 19 and depressed and very unhealthy and mad at myself for not having my shit t…\n",
            "1449496458508517383 Gary Danielson sounds very depressed  watching UGA dominate. #UGAvsUK\n",
            "1449494745638649859 Been very depressed all day so if anyone has this it would make my day!\n",
            "1449494679964241921 I'm getting very depressed running plays in practice mode. So many of these plays have poor spacing and/or timing.… https://t.co/510h6LJRyv\n",
            "1449493521581416454 RT @Wuggaaaaa_: I be depressed about shit nobody can help me with\n",
            "1449492296924344320 RT @rcgcentral_: Feeling depressed? Stressed? A sudden urge to scream or break things? \n",
            "\n",
            "Bring all those emotions and head down to the Rage…\n",
            "1449492082503176202 @Monostolemywig @chinogambino6 @AsianDaBrattt no one told her 2 months ago to say she will never date again and act… https://t.co/CEkuRMEGZm\n",
            "1449491200969515008 RT @jblacksomething: I just... Selina. The intensity of the bulletproof suit, very 1989. The colors, the visuals. Pattinson in full depress…\n",
            "1449490982072848384 RT @PhilPerer: @raviagrawal3 Tuslims u have no confidence in ur holy book nor ur religion that’s why u burn all other holy books ($&amp;. U guy…\n",
            "1449487473856454657 RT @mattxiv: turnin 23 tonight. here’s a pic from when i was 19 and depressed and very unhealthy and mad at myself for not having my shit t…\n",
            "1449487170666860546 First they damage ur stuff, then they  procrastinate for survey to settle claim n now they r delaying the claim for… https://t.co/o9ig7KRl4o\n"
          ]
        }
      ]
    },
    {
      "cell_type": "code",
      "metadata": {
        "id": "nMSX489C0JAA"
      },
      "source": [
        "import tweepy\n",
        "import csv\n",
        "import pandas as pd\n",
        "from textblob import TextBlob\n",
        "####input your credentials here\n",
        "consumer_key = '4jHaK26s9IIOAUwj8mQagR6HJ'\n",
        "consumer_secret = 'oefyOhhrKCXrlv1rsxyBQoKYF2Ab4kT6HyCmuHjXliPTrTfU5F'\n",
        "access_token='89169380-bQDh4UXvRtLDlCyn8KBlCoof6zztRLQvallIPpzNT'\n",
        "access_token_secret='f6yx9wJ6CgozH1BDM0c2JsPVq8HLap2opmjh2J68WjAYy'\n",
        "\n",
        "auth = tweepy.OAuthHandler(consumer_key, consumer_secret)\n",
        "auth.set_access_token(access_token, access_token_secret)\n",
        "api = tweepy.API(auth,wait_on_rate_limit=True)\n",
        "\n",
        "# Open/Create a file to append data\n",
        "csvFile = open('twitter_dataset.csv', 'a')\n",
        "#Use csv Writer\n",
        "csvWriter = csv.writer(csvFile)\n",
        "maxtweets=100\n",
        "for tweet in tweepy.Cursor(api.search,q=('suicide OR kill AND ME -filter:retweets AND filter:replies'),count=100000,\n",
        "                           lang=\"en\",\n",
        "                           since=\"2010-01-01\").items(maxtweets):\n",
        "    #print (tweet.id, tweet.text)\n",
        "    csvWriter.writerow([tweet.author.name, tweet.text.encode('utf-8'), tweet.retweet_count, tweet.created_at])"
      ],
      "execution_count": 7,
      "outputs": []
    },
    {
      "cell_type": "code",
      "metadata": {
        "collapsed": true,
        "id": "Vm8CaZBo0JAB"
      },
      "source": [
        ""
      ],
      "execution_count": null,
      "outputs": []
    }
  ]
}